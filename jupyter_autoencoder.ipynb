{
 "cells": [
  {
   "cell_type": "code",
   "execution_count": null,
   "metadata": {
    "scrolled": true
   },
   "outputs": [
    {
     "name": "stdout",
     "output_type": "stream",
     "text": [
      "(20, 10000, 64, 64)\n",
      "(64, 64)\n",
      "(20, 10000, 4096)\n"
     ]
    },
    {
     "data": {
      "image/png": "[encoded data removed]",
      "text/plain": [
       "<matplotlib.figure.Figure at 0x7fbce00a14a8>"
      ]
     },
     "metadata": {},
     "output_type": "display_data"
    }
   ],
   "source": [
    "import numpy as np\n",
    "import matplotlib.pyplot as plt\n",
    "import matplotlib.image as mpimg\n",
    "import tensorflow as tf\n",
    "import sys\n",
    "\n",
    "%matplotlib inline\n",
    "data = np.load('/home/stud/wangc/lab/mnist_test_seq.npy')\n",
    "print(data.shape)\n",
    "print(data[0,0].shape)\n",
    "data = np.around(data/255,decimal=5)\n",
    "plt.imshow(data[0,0,:,:])\n",
    "data = data.reshape(data.shape[0],data.shape[1],-1)\n",
    "print(data.shape)"
   ]
  },
  {
   "cell_type": "code",
   "execution_count": null,
   "metadata": {
    "scrolled": true
   },
   "outputs": [
    {
     "name": "stdout",
     "output_type": "stream",
     "text": [
      "enc_state LSTMStateTuple(c=<tf.Tensor 'encode/rnn/while/Exit_2:0' shape=(?, 2000) dtype=float32>, h=<tf.Tensor 'encode/rnn/while/Exit_3:0' shape=(?, 2000) dtype=float32>)\n",
      "output shape TensorShape([Dimension(50), Dimension(2000)])\n",
      "before stack shape TensorShape([Dimension(50), Dimension(2000)])\n",
      "projected shape TensorShape([Dimension(20), Dimension(50), Dimension(4096)])\n",
      "reversed shape TensorShape([Dimension(20), Dimension(50), Dimension(4096)])\n",
      "Initialized\n"
     ]
    }
   ],
   "source": [
    "hidden_num = 2000\n",
    "maxtime = 20\n",
    "batch_size = 50\n",
    "frame_size = 64\n",
    "desired = frame_size*frame_size\n",
    "\n",
    "graph = tf.Graph()\n",
    "with graph.as_default():\n",
    "    enc_inputs = tf.placeholder(tf.float32, shape = [maxtime, batch_size, desired], name='enc_inputs')\n",
    "\n",
    "    with tf.variable_scope('encode', reuse=None):\n",
    "        enc_cell = tf.contrib.rnn.LSTMCell(hidden_num)\n",
    "        _, enc_state = tf.nn.dynamic_rnn(enc_cell, enc_inputs, dtype=tf.float32, time_major=True)\n",
    "        print('enc_state %r' % (enc_state,))\n",
    "\n",
    "\n",
    "    saved_output = tf.Variable(tf.zeros([batch_size, hidden_num]), trainable=False)\n",
    "    saved_state = tf.Variable(tf.zeros([batch_size, hidden_num]), trainable=False)\n",
    "\n",
    "    # projection weights and biases.\n",
    "    w = tf.Variable(tf.truncated_normal([hidden_num, desired], -0.1, 0.1, dtype=tf.float32), name='w')\n",
    "    b = tf.Variable(tf.zeros([desired]),name='b', dtype=tf.float32)\n",
    "\n",
    "    outputs = list()\n",
    "    output = saved_output\n",
    "    state = saved_state\n",
    "    dec_inputs = tf.zeros([batch_size, desired])\n",
    "    dec_state = enc_state\n",
    "\n",
    "    with tf.variable_scope('dec_scope',reuse=None):\n",
    "        dec_cell = tf.contrib.rnn.LSTMCell(hidden_num)\n",
    "        v = None\n",
    "        for _ in range(maxtime):\n",
    "            with tf.variable_scope('unrolling', reuse=v):\n",
    "                output, dec_state = dec_cell(dec_inputs, dec_state)\n",
    "                if v == None:\n",
    "                    print('output shape %r' % (output.shape,))\n",
    "                v = True\n",
    "                outputs.append(output)\n",
    "\n",
    "    # State saving across unrollings.\n",
    "    with tf.control_dependencies([saved_output.assign(output),\n",
    "                                    saved_state.assign(state)]):\n",
    "        print('before stack shape %r' % (outputs[0].shape))       \n",
    "        outputs = [tf.matmul(i, w) + b for i in outputs]\n",
    "        outputs = tf.stack(outputs)\n",
    "        print('projected shape %r' % (outputs.shape,))\n",
    "        reversed_outputs = outputs[::-1]\n",
    "        print('reversed shape %r' % (reversed_outputs.shape,))\n",
    "        loss = tf.reduce_mean(tf.squared_difference(reversed_outputs,enc_inputs))\n",
    "    # Optimizer.\n",
    "    global_step = tf.Variable(0, trainable = False)\n",
    "    learning_rate = tf.train.exponential_decay(\n",
    "            0.1, global_step, 12000, 0.9, staircase=True)\n",
    "    optimizer = tf.train.GradientDescentOptimizer(learning_rate)\n",
    "    gradients, v = zip(*optimizer.compute_gradients(loss))\n",
    "    gradients, _ = tf.clip_by_global_norm(gradients, 1.25)\n",
    "    optimizer = optimizer.apply_gradients(\n",
    "            zip(gradients, v), global_step=global_step)\n",
    "    saver = tf.train.Saver()\n",
    "    #create summary for loss\n",
    "    tf.summary.scalar('loss', loss)\n",
    "    #tf.summary.tensor_summary('gradients', gradients)\n",
    "    #tf.summary.tensor_summary('projection_weights', w)\n",
    "    summary_op = tf.summary.merge_all()\n",
    "train_size = 9000\n",
    "epoch = 10000\n",
    "steps = int(train_size/batch_size)\n",
    "#summary_frequency = 5\n",
    "\n",
    "\n",
    "restore = False\n",
    "with tf.Session(graph=graph) as session:\n",
    "    if restore==False:\n",
    "        tf.global_variables_initializer().run()\n",
    "        writer = tf.summary.FileWriter('logdir', graph)\n",
    "        print('Initialized')\n",
    "        for _ in range(epoch):\n",
    "            for i in range(steps):\n",
    "                _,l,_,summary = session.run([optimizer, loss, learning_rate, summary_op], feed_dict={enc_inputs:(data[:,i*batch_size:(i+1)*batch_size])})\n",
    "                writer.add_summary(summary, epoch*steps+i)\n",
    "        saver.save(session,\"./model.ckpt\")\n",
    "        writer.close()\n",
    "    else:\n",
    "        saver.restore(session, \"./model.ckpt\")\n",
    "        print(\"model restored\")\n",
    "        val_outputs, l, wo, bo = session.run([outputs, loss, w, b], feed_dict={enc_inputs:data[:,0:batch_size]})\n",
    "        print('outputs shape %r' % (val_outputs.shape,))\n",
    "        print(\"validate error %f\" % l)\n",
    "        for j in range(2):\n",
    "            tmp_in = data[j*(-1)-1,0]\n",
    "            plt.figure()\n",
    "            plt.imshow(tmp_in.reshape(64,-1))\n",
    "            tmp_out = val_outputs[j,0,:]\n",
    "            plt.figure()\n",
    "            plt.imshow(tmp_out.reshape(64,-1))\n",
    "        test_outputs, test_l, _, _ = session.run([outputs, loss, w, b], feed_dict={enc_inputs:data[:,9000:9000+batch_size]})\n",
    "        print(\"test error %f\" % test_l)\n",
    "        for j in range(2):\n",
    "            tmp_in = data[j*(-1)-1,9000]\n",
    "            plt.figure()\n",
    "            plt.imshow(tmp_in.reshape(64,-1))\n",
    "            tmp_out = test_outputs[j,0,:]\n",
    "            plt.figure()\n",
    "            plt.imshow(tmp_out.reshape(64,-1))\n",
    "    print('finished')"
   ]
  },
  {
   "cell_type": "code",
   "execution_count": null,
   "metadata": {
    "collapsed": true
   },
   "outputs": [],
   "source": [
    "%%javascript\n",
    "Jupyter.notebook.session.delete();"
   ]
  },
  {
   "cell_type": "code",
   "execution_count": null,
   "metadata": {
    "collapsed": true
   },
   "outputs": [],
   "source": []
  }
 ],
 "metadata": {
  "kernelspec": {
   "display_name": "Python 3",
   "language": "python",
   "name": "python3"
  },
  "language_info": {
   "codemirror_mode": {
    "name": "ipython",
    "version": 3
   },
   "file_extension": ".py",
   "mimetype": "text/x-python",
   "name": "python",
   "nbconvert_exporter": "python",
   "pygments_lexer": "ipython3",
   "version": "3.5.3"
  }
 },
 "nbformat": 4,
 "nbformat_minor": 2
}
